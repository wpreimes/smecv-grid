{
 "cells": [
  {
   "cell_type": "markdown",
   "metadata": {},
   "source": [
    "# Subset"
   ]
  },
  {
   "cell_type": "markdown",
   "metadata": {},
   "source": [
    "A subset is of a set of points (GPIs) on a pygeogrids Grid. Each point in a subset is part of the overarching grid. Each subset point has a value attached that represents that point e.g. when written to file, when visualised etc. By default the value is 1, i.e. a binary mask when storing subset values. A subset must have a \"name\" assigned. It can optionally have a longer description (\"meaning\") and any additional metadata as a dictionary (\"attributes\"). Based on the number and format of the passed subset points upon initialisation, a subset also has a shape."
   ]
  },
  {
   "cell_type": "markdown",
   "metadata": {},
   "source": [
    "## Creating subsets.\n",
    "To create a subset, simply pass a 1d or 2d array (or list) of points and a name. Optionally a meaning, values and any additional attributes can be given."
   ]
  },
  {
   "cell_type": "code",
   "execution_count": 19,
   "metadata": {},
   "outputs": [],
   "source": [
    "# Example: Define 2 arbitrary subsets\n",
    "import numpy as np\n",
    "from pygeogrids.subset import Subset\n",
    "\n",
    "# for the first subset pass gpis as 1d arrays, all points are assigned the default value \"1\".\n",
    "subset1 = Subset(name='Subset1', gpis=np.array([10,11,12,13]))\n",
    "\n",
    "# for the second subset pass gpis as a 2d array, not all points are assigned the same value.\n",
    "subset2 = Subset(name='Subset2', meaning='Advanced case', gpis=np.array([[11,12],[19,20]]), values=[1,1,2,2],\n",
    "                 attrs={'AnyAttributeName': 'AttributeValue'})"
   ]
  },
  {
   "cell_type": "markdown",
   "metadata": {},
   "source": [
    "Notice the different shapes and values, the shape depends on wheather a 1d ar 2d gpis-array was passed when creating the subset."
   ]
  },
  {
   "cell_type": "code",
   "execution_count": 20,
   "metadata": {},
   "outputs": [
    {
     "name": "stdout",
     "output_type": "stream",
     "text": [
      "Subset1 has values [1 1 1 1] and shape (4,)\n",
      "Subset2 has values [1 1 2 2] and shape (2, 2)\n"
     ]
    }
   ],
   "source": [
    "print(f'{subset1.name} has values {subset1.values} and shape {subset1.shape}')\n",
    "print(f'{subset2.name} has values {subset2.values} and shape {subset2.shape}')"
   ]
  },
  {
   "cell_type": "markdown",
   "metadata": {},
   "source": [
    "Subset objects can be returned as (reduced) dictionaries.\n",
    "\n",
    "A dictionary with all available properties is returned with the `Subset.to_dict(format='all')` function. The format keyword defines which attributes are returned."
   ]
  },
  {
   "cell_type": "code",
   "execution_count": 21,
   "metadata": {},
   "outputs": [
    {
     "name": "stdout",
     "output_type": "stream",
     "text": [
      "When returning `all` properties: \n",
      "\n",
      "{'Subset2': {'attrs': {'AnyAttributeName': 'AttributeValue', 'shape': (2, 2)},\n",
      "             'gpis': array([[11, 12],\n",
      "       [19, 20]]),\n",
      "             'meaning': 'Advanced case',\n",
      "             'values': array([1, 1, 2, 2])}}\n"
     ]
    }
   ],
   "source": [
    "from pprint import pprint\n",
    "print(\"When returning `all` properties: \\n\")\n",
    "pprint(subset2.as_dict('all'))"
   ]
  },
  {
   "cell_type": "code",
   "execution_count": 22,
   "metadata": {},
   "outputs": [
    {
     "name": "stdout",
     "output_type": "stream",
     "text": [
      "When returning `gpis` only: \n",
      "\n",
      "{'Subset2': array([11, 12, 19, 20])}\n"
     ]
    }
   ],
   "source": [
    "print(\"When returning `gpis` only: \\n\")\n",
    "print(subset2.as_dict('gpis'))"
   ]
  },
  {
   "cell_type": "markdown",
   "metadata": {},
   "source": [
    "## Filter subset"
   ]
  },
  {
   "cell_type": "markdown",
   "metadata": {},
   "source": [
    "Finally we can also filter a subset by its values and pass a whitelist of values that are allowed. A new Subset is created from the filtered points and any passed, optional kwargs. Here we select the points of subset2 that have value '1' assigned. Any arguments other than the values to filter for are used to create the new Subset."
   ]
  },
  {
   "cell_type": "code",
   "execution_count": 23,
   "metadata": {},
   "outputs": [],
   "source": [
    "filtered_subset2 = subset2.select_by_val(vals=[1], meaning='Filtered version of subset2')"
   ]
  },
  {
   "cell_type": "code",
   "execution_count": 24,
   "metadata": {},
   "outputs": [
    {
     "name": "stdout",
     "output_type": "stream",
     "text": [
      "The filtered subset looks like this: \n",
      "\n",
      "{'filtered_Subset2': {'attrs': {'shape': (2,)},\n",
      "                      'gpis': array([11, 12]),\n",
      "                      'meaning': 'Filtered version of subset2',\n",
      "                      'values': array([1, 1])}}\n"
     ]
    }
   ],
   "source": [
    "print(\"The filtered subset looks like this: \\n\")\n",
    "pprint(filtered_subset2.as_dict())"
   ]
  },
  {
   "cell_type": "markdown",
   "metadata": {},
   "source": [
    "## Combining 2 subsets\n",
    "Basic operations to combine two subsets are provided. Combining subsets is done based on their GPIs. The result of combining two subsets in a new subset containing the respective points. Only the GPIs are taken from the input subsets. All other attributes must be defined by the user (as kwargs for this function). A name is generated from the names on the input subsets if no new name is specified. \n",
    "\n",
    "The following methods to combine subsets are currently implemented:\n"
   ]
  },
  {
   "cell_type": "markdown",
   "metadata": {},
   "source": [
    "1) `Subset.intersect(other[Subset], **new_subset_kwargs)`:  \n",
    "\n",
    "Creates a new subset from points that are in **this subset AND in the other subset**. In this example we also pass a new 'meaning' of the intersection. The new name is created from the names of the input subsets."
   ]
  },
  {
   "cell_type": "code",
   "execution_count": 25,
   "metadata": {},
   "outputs": [
    {
     "name": "stdout",
     "output_type": "stream",
     "text": [
      "{'Subset2_inter_Subset1': {'attrs': {'shape': (2,)},\n",
      "                           'gpis': array([11, 12]),\n",
      "                           'meaning': 'intersection of subset1 and subset2',\n",
      "                           'values': array([1, 1])}}\n"
     ]
    }
   ],
   "source": [
    "inter = subset2.intersect(subset1, meaning='intersection of subset1 and subset2')\n",
    "pprint(inter.as_dict())"
   ]
  },
  {
   "cell_type": "markdown",
   "metadata": {},
   "source": [
    "2) `Subset.union(other[Subset], **new_subset_kwargs)`:  \n",
    "    \n",
    "Creates a new subset from points that are in **this subset OR in the other subset**. In this example we also define a new value for all points of the union so that not the default value 1 is used. The new name is created from the names of the input subsets."
   ]
  },
  {
   "cell_type": "code",
   "execution_count": 26,
   "metadata": {},
   "outputs": [
    {
     "name": "stdout",
     "output_type": "stream",
     "text": [
      "{'Subset2_union_Subset1': {'attrs': {'shape': (6,)},\n",
      "                           'gpis': array([10, 11, 12, 13, 19, 20]),\n",
      "                           'meaning': '',\n",
      "                           'values': array([3, 3, 3, 3, 3, 3])}}\n"
     ]
    }
   ],
   "source": [
    "union = subset2.union(subset1, values=3)\n",
    "pprint(union.as_dict())"
   ]
  },
  {
   "cell_type": "markdown",
   "metadata": {},
   "source": [
    "3) `Subset.diff(other[Subset], **new_subset_kwargs)`:\n",
    "    \n",
    "Create a new subset from points that are in **this subset, but NOT in the other subset**. In this example we also define a name to use for the new subset and some attributes."
   ]
  },
  {
   "cell_type": "code",
   "execution_count": 27,
   "metadata": {},
   "outputs": [
    {
     "name": "stdout",
     "output_type": "stream",
     "text": [
      "{'subset_diff': {'attrs': {'method': 'subset2 minus subset1', 'shape': (2,)},\n",
      "                 'gpis': array([19, 20]),\n",
      "                 'meaning': '',\n",
      "                 'values': array([1, 1])}}\n"
     ]
    }
   ],
   "source": [
    "diff = subset2.diff(subset1, name='subset_diff', attrs={'method': 'subset2 minus subset1'})\n",
    "pprint(diff.as_dict())"
   ]
  },
  {
   "cell_type": "markdown",
   "metadata": {},
   "source": [
    "# SubsetCollection\n",
    "\n",
    "A SubsetCollection holds multiple subsets and provides functions to add, drop and combine/merge several of them at once. Can be written to / read from a netcdf (definition) file.\n",
    "\n",
    "## Create, load SubsetCollection\n",
    "There are several ways to create a subset collection.\n",
    "* By passing a list of subsets\n",
    "* By passing a dictionary of subset attributes (as returned by `Subset.as_dict()`)\n",
    "* By loading a netcdf file"
   ]
  },
  {
   "cell_type": "markdown",
   "metadata": {},
   "source": [
    "The following command creates a new Collection from 2 already existing subsets."
   ]
  },
  {
   "cell_type": "code",
   "execution_count": 28,
   "metadata": {},
   "outputs": [],
   "source": [
    "from pygeogrids.subset import SubsetCollection\n",
    "\n",
    "# create a subset collection from a list of subsets:\n",
    "collection = SubsetCollection(subsets=[subset1, subset2])"
   ]
  },
  {
   "cell_type": "markdown",
   "metadata": {},
   "source": [
    "Afterwards, similar to the Subset, the Collection can be returned as a dictionary. We will use this command in the examples to give a qick overview over the current state of the collection."
   ]
  },
  {
   "cell_type": "code",
   "execution_count": 29,
   "metadata": {},
   "outputs": [
    {
     "name": "stdout",
     "output_type": "stream",
     "text": [
      "{'Subset1': {'attrs': {'shape': (4,)},\n",
      "             'gpis': array([10, 11, 12, 13]),\n",
      "             'meaning': '',\n",
      "             'values': array([1, 1, 1, 1])},\n",
      " 'Subset2': {'attrs': {'AnyAttributeName': 'AttributeValue', 'shape': (2, 2)},\n",
      "             'gpis': array([[11, 12],\n",
      "       [19, 20]]),\n",
      "             'meaning': 'Advanced case',\n",
      "             'values': array([1, 1, 2, 2])}}\n"
     ]
    }
   ],
   "source": [
    "subset_collection_dict = collection.as_dict()\n",
    "pprint(subset_collection_dict)"
   ]
  },
  {
   "cell_type": "markdown",
   "metadata": {},
   "source": [
    "A dictionary like this could also be used to create a collection directly, without the need to create single Subsets first."
   ]
  },
  {
   "cell_type": "code",
   "execution_count": 30,
   "metadata": {},
   "outputs": [],
   "source": [
    "# a dictionary like this, which contains dictionaries of subset attributes (see `Subset.as_dict()`) \n",
    "# is another easy way to create a SusetCollection directly\n",
    "collection_from_dict = SubsetCollection.from_dict(subset_collection_dict)"
   ]
  },
  {
   "cell_type": "markdown",
   "metadata": {},
   "source": [
    "The result is the same, which can be checked with ´==´"
   ]
  },
  {
   "cell_type": "code",
   "execution_count": 31,
   "metadata": {},
   "outputs": [
    {
     "data": {
      "text/plain": [
       "True"
      ]
     },
     "execution_count": 31,
     "metadata": {},
     "output_type": "execute_result"
    }
   ],
   "source": [
    "collection == collection_from_dict"
   ]
  },
  {
   "cell_type": "markdown",
   "metadata": {},
   "source": [
    "Additional subsets can be added to an existing Collection."
   ]
  },
  {
   "cell_type": "code",
   "execution_count": 32,
   "metadata": {},
   "outputs": [
    {
     "name": "stdout",
     "output_type": "stream",
     "text": [
      "{'Subset1': {'attrs': {'shape': (4,)},\n",
      "             'gpis': array([10, 11, 12, 13]),\n",
      "             'meaning': '',\n",
      "             'values': array([1, 1, 1, 1])},\n",
      " 'Subset2': {'attrs': {'AnyAttributeName': 'AttributeValue', 'shape': (2, 2)},\n",
      "             'gpis': array([[11, 12],\n",
      "       [19, 20]]),\n",
      "             'meaning': 'Advanced case',\n",
      "             'values': array([1, 1, 2, 2])},\n",
      " 'added_subset': {'attrs': {'shape': (4,)},\n",
      "                  'gpis': array([ 5, 12, 19, 26]),\n",
      "                  'meaning': '',\n",
      "                  'values': array([5, 5, 5, 5])}}\n"
     ]
    }
   ],
   "source": [
    "collection.add(Subset('added_subset', gpis=np.array([5, 12, 19, 26]), values=5.))\n",
    "pprint(collection.as_dict())"
   ]
  },
  {
   "cell_type": "markdown",
   "metadata": {},
   "source": [
    "## Combine and Merge multiple subsets in a collection\n",
    "Combining is not the same as merging subsets! \n",
    "\n",
    "### combine()\n",
    "`combine()` takes one of the methods implemented for `Subset` (e.g. `intersect`, `union`, `diff`) and applies it one by one to all subsets in the passed order until finally one single new Subset is created. `combine` only affects the GPIs of the subset while assigning new `values` to the so found new Subset. Therefore, if no values are specified, all combined GPIs will have the (default value) 1 afterwards. A `new_name` for the new subset must be passed to `combine`."
   ]
  },
  {
   "cell_type": "code",
   "execution_count": 33,
   "metadata": {},
   "outputs": [
    {
     "name": "stdout",
     "output_type": "stream",
     "text": [
      "{'Subset1': {'attrs': {'shape': (4,)},\n",
      "             'gpis': array([10, 11, 12, 13]),\n",
      "             'meaning': '',\n",
      "             'values': array([1, 1, 1, 1])},\n",
      " 'Subset2': {'attrs': {'AnyAttributeName': 'AttributeValue', 'shape': (2, 2)},\n",
      "             'gpis': array([[11, 12],\n",
      "       [19, 20]]),\n",
      "             'meaning': 'Advanced case',\n",
      "             'values': array([1, 1, 2, 2])},\n",
      " 'added_subset': {'attrs': {'shape': (4,)},\n",
      "                  'gpis': array([ 5, 12, 19, 26]),\n",
      "                  'meaning': '',\n",
      "                  'values': array([5, 5, 5, 5])},\n",
      " 'combined_union': {'attrs': {'shape': (7,)},\n",
      "                    'gpis': array([ 5, 10, 11, 12, 13, 19, 26]),\n",
      "                    'meaning': '',\n",
      "                    'values': array([1, 1, 1, 1, 1, 1, 1])}}\n"
     ]
    }
   ],
   "source": [
    "collection.combine(['Subset1', 'added_subset'], method='union', new_name='combined_union')\n",
    "pprint(collection.as_dict())"
   ]
  },
  {
   "cell_type": "markdown",
   "metadata": {},
   "source": [
    "# merge()\n",
    "`merge()` is similar to `combine(method='union')` as the new subset will contain all points that were in any of the merged subsets.\n",
    "But other than `combine()` it keeps the values of the merged subsets (with higher priority for subsets that were merged last). By default the input subsets are not kept after merging (only if `keep=True` is selected). Note in the following example that 'merged_subset' contains values from both merged subsets. Point 12 (which was in both subsets) was assinged the value from the subset that appeared later in the passed list."
   ]
  },
  {
   "cell_type": "code",
   "execution_count": 34,
   "metadata": {},
   "outputs": [
    {
     "name": "stdout",
     "output_type": "stream",
     "text": [
      "{'Subset2': {'attrs': {'AnyAttributeName': 'AttributeValue', 'shape': (2, 2)},\n",
      "             'gpis': array([[11, 12],\n",
      "       [19, 20]]),\n",
      "             'meaning': 'Advanced case',\n",
      "             'values': array([1, 1, 2, 2])},\n",
      " 'combined_union': {'attrs': {'shape': (7,)},\n",
      "                    'gpis': array([ 5, 10, 11, 12, 13, 19, 26]),\n",
      "                    'meaning': '',\n",
      "                    'values': array([1, 1, 1, 1, 1, 1, 1])},\n",
      " 'merged_subsets': {'attrs': {'shape': (7,)},\n",
      "                    'gpis': array([ 5, 10, 11, 12, 13, 19, 26]),\n",
      "                    'meaning': 'Merged subsets Subset1, added_subset',\n",
      "                    'values': array([5, 1, 1, 5, 1, 5, 5])}}\n"
     ]
    }
   ],
   "source": [
    "collection.merge(['Subset1', 'added_subset'], new_name='merged_subsets')\n",
    "pprint(collection.as_dict())"
   ]
  },
  {
   "cell_type": "markdown",
   "metadata": {},
   "source": [
    "## Write/Load to/from netcdf file\n",
    "Finally we write the subset collection to netcdf file. This is not the same as storing a MetaGrid, but only stores the subsets without context."
   ]
  },
  {
   "cell_type": "code",
   "execution_count": 35,
   "metadata": {},
   "outputs": [
    {
     "name": "stdout",
     "output_type": "stream",
     "text": [
      "{'Subset2': {'attrs': {'AnyAttributeName': 'AttributeValue',\n",
      "                       'meaning': 'Advanced case',\n",
      "                       'shape': (2, 2)},\n",
      "             'gpis': array([[11, 12],\n",
      "       [19, 20]]),\n",
      "             'meaning': 'Advanced case',\n",
      "             'values': array([1, 1, 2, 2])},\n",
      " 'combined_union': {'attrs': {'meaning': '', 'shape': (7,)},\n",
      "                    'gpis': array([ 5, 10, 11, 12, 13, 19, 26]),\n",
      "                    'meaning': '',\n",
      "                    'values': array([1, 1, 1, 1, 1, 1, 1])},\n",
      " 'merged_subsets': {'attrs': {'meaning': 'Merged subsets Subset1, added_subset',\n",
      "                              'shape': (7,)},\n",
      "                    'gpis': array([ 5, 10, 11, 12, 13, 19, 26]),\n",
      "                    'meaning': 'Merged subsets Subset1, added_subset',\n",
      "                    'values': array([5, 1, 1, 5, 1, 5, 5])}}\n"
     ]
    }
   ],
   "source": [
    "import tempfile\n",
    "import os\n",
    "\n",
    "filename = os.path.join(tempfile.mkdtemp(), 'ssc.nc')\n",
    "\n",
    "collection.to_file(filename)\n",
    "pprint(collection.as_dict())"
   ]
  },
  {
   "cell_type": "markdown",
   "metadata": {},
   "source": [
    "And load the same collection again from file:"
   ]
  },
  {
   "cell_type": "code",
   "execution_count": 36,
   "metadata": {},
   "outputs": [
    {
     "name": "stdout",
     "output_type": "stream",
     "text": [
      "{'Subset2': {'attrs': OrderedDict([('AnyAttributeName', 'AttributeValue'),\n",
      "                                   ('shape', (2, 2))]),\n",
      "             'gpis': array([[11, 12],\n",
      "       [19, 20]]),\n",
      "             'meaning': 'Advanced case',\n",
      "             'values': array([1, 1, 2, 2])},\n",
      " 'combined_union': {'attrs': OrderedDict([('shape', (7,))]),\n",
      "                    'gpis': array([ 5, 10, 11, 12, 13, 19, 26]),\n",
      "                    'meaning': '',\n",
      "                    'values': array([1, 1, 1, 1, 1, 1, 1])},\n",
      " 'merged_subsets': {'attrs': OrderedDict([('shape', (7,))]),\n",
      "                    'gpis': array([ 5, 10, 11, 12, 13, 19, 26]),\n",
      "                    'meaning': 'Merged subsets Subset1, added_subset',\n",
      "                    'values': array([5, 1, 1, 5, 1, 5, 5])}}\n"
     ]
    },
    {
     "data": {
      "text/plain": [
       "True"
      ]
     },
     "execution_count": 36,
     "metadata": {},
     "output_type": "execute_result"
    }
   ],
   "source": [
    "loaded_collection = SubsetCollection.from_file(filename)\n",
    "pprint(loaded_collection.as_dict())\n",
    "collection == loaded_collection"
   ]
  }
 ],
 "metadata": {
  "kernelspec": {
   "display_name": "Python 3",
   "language": "python",
   "name": "python3"
  },
  "language_info": {
   "codemirror_mode": {
    "name": "ipython",
    "version": 3
   },
   "file_extension": ".py",
   "mimetype": "text/x-python",
   "name": "python",
   "nbconvert_exporter": "python",
   "pygments_lexer": "ipython3",
   "version": "3.6.11"
  }
 },
 "nbformat": 4,
 "nbformat_minor": 1
}
